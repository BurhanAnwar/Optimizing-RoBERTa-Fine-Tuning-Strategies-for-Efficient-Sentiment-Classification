{
  "cells": [
    {
      "cell_type": "code",
      "execution_count": null,
      "id": "f95ce0b7-7cbd-4143-9eea-9ac01b060801",
      "metadata": {
        "id": "f95ce0b7-7cbd-4143-9eea-9ac01b060801",
        "outputId": "33d047a7-5f0b-440f-c604-0896b11c3780"
      },
      "outputs": [
        {
          "name": "stdout",
          "output_type": "stream",
          "text": [
            "CUDA available: True\n",
            "GPU: NVIDIA GeForce RTX 3080\n"
          ]
        }
      ],
      "source": [
        "import torch\n",
        "print(\"CUDA available:\", torch.cuda.is_available())\n",
        "print(\"GPU:\", torch.cuda.get_device_name(0))\n"
      ]
    },
    {
      "cell_type": "code",
      "execution_count": null,
      "id": "d8b8ecd9-dcd7-4392-b2d2-d52c7df361bc",
      "metadata": {
        "id": "d8b8ecd9-dcd7-4392-b2d2-d52c7df361bc"
      },
      "outputs": [],
      "source": []
    },
    {
      "cell_type": "code",
      "execution_count": null,
      "id": "d2bb925b-1664-4e9b-b9b7-5ff012cbc6ff",
      "metadata": {
        "id": "d2bb925b-1664-4e9b-b9b7-5ff012cbc6ff"
      },
      "outputs": [],
      "source": [
        "from datasets import load_dataset\n",
        "from transformers import AutoTokenizer"
      ]
    },
    {
      "cell_type": "code",
      "execution_count": null,
      "id": "6253d33f-68d7-4791-9a4d-03645dd666a7",
      "metadata": {
        "id": "6253d33f-68d7-4791-9a4d-03645dd666a7",
        "outputId": "a7942127-b6f7-471d-9e63-d2a28eed91b6"
      },
      "outputs": [
        {
          "name": "stdout",
          "output_type": "stream",
          "text": [
            "DatasetDict({\n",
            "    train: Dataset({\n",
            "        features: ['text', 'label'],\n",
            "        num_rows: 25000\n",
            "    })\n",
            "    test: Dataset({\n",
            "        features: ['text', 'label'],\n",
            "        num_rows: 25000\n",
            "    })\n",
            "    unsupervised: Dataset({\n",
            "        features: ['text', 'label'],\n",
            "        num_rows: 50000\n",
            "    })\n",
            "})\n"
          ]
        }
      ],
      "source": [
        "dataset = load_dataset(\"imdb\")\n",
        "print(dataset)"
      ]
    },
    {
      "cell_type": "code",
      "execution_count": null,
      "id": "092db74a-d794-47bc-8ac1-833e885f4d78",
      "metadata": {
        "id": "092db74a-d794-47bc-8ac1-833e885f4d78"
      },
      "outputs": [],
      "source": [
        "model_checkpoint = \"bert-base-uncased\"\n",
        "tokenizer = AutoTokenizer.from_pretrained(model_checkpoint)"
      ]
    },
    {
      "cell_type": "code",
      "execution_count": null,
      "id": "79496fbf-48e2-427f-a803-28829bed6d57",
      "metadata": {
        "id": "79496fbf-48e2-427f-a803-28829bed6d57"
      },
      "outputs": [],
      "source": [
        "# 3. Tokenize function\n",
        "def tokenize_function(examples):\n",
        "    return tokenizer(\n",
        "        examples[\"text\"],\n",
        "        padding=\"max_length\",    # pad to max_length\n",
        "        truncation=True,         # truncate sequences longer than max_length\n",
        "        max_length=512,          # set max token length\n",
        "    )\n",
        "\n",
        "# 4. Apply tokenization to the dataset\n",
        "tokenized_datasets = dataset.map(tokenize_function, batched=True)\n",
        "\n",
        "\n",
        "tokenized_datasets = tokenized_datasets.remove_columns([\"text\"])\n",
        "tokenized_datasets = tokenized_datasets.rename_column(\"label\", \"labels\")\n",
        "tokenized_datasets.set_format(\"torch\")"
      ]
    },
    {
      "cell_type": "code",
      "execution_count": null,
      "id": "84fdb1e0-243d-4c92-a726-5e1c243f303c",
      "metadata": {
        "id": "84fdb1e0-243d-4c92-a726-5e1c243f303c",
        "outputId": "ce406e72-b271-4205-ab9f-0572697ec827"
      },
      "outputs": [
        {
          "name": "stdout",
          "output_type": "stream",
          "text": [
            "{'labels': tensor(0), 'input_ids': tensor([  101,  1045, 12524,  1045,  2572,  8025,  1011,  3756,  2013,  2026,\n",
            "         2678,  3573,  2138,  1997,  2035,  1996,  6704,  2008,  5129,  2009,\n",
            "         2043,  2009,  2001,  2034,  2207,  1999,  3476,  1012,  1045,  2036,\n",
            "         2657,  2008,  2012,  2034,  2009,  2001,  8243,  2011,  1057,  1012,\n",
            "         1055,  1012,  8205,  2065,  2009,  2412,  2699,  2000,  4607,  2023,\n",
            "         2406,  1010,  3568,  2108,  1037,  5470,  1997,  3152,  2641,  1000,\n",
            "         6801,  1000,  1045,  2428,  2018,  2000,  2156,  2023,  2005,  2870,\n",
            "         1012,  1026,  7987,  1013,  1028,  1026,  7987,  1013,  1028,  1996,\n",
            "         5436,  2003,  8857,  2105,  1037,  2402,  4467,  3689,  3076,  2315,\n",
            "        14229,  2040,  4122,  2000,  4553,  2673,  2016,  2064,  2055,  2166,\n",
            "         1012,  1999,  3327,  2016,  4122,  2000,  3579,  2014,  3086,  2015,\n",
            "         2000,  2437,  2070,  4066,  1997,  4516,  2006,  2054,  1996,  2779,\n",
            "        25430, 14728,  2245,  2055,  3056,  2576,  3314,  2107,  2004,  1996,\n",
            "         5148,  2162,  1998,  2679,  3314,  1999,  1996,  2142,  2163,  1012,\n",
            "         1999,  2090,  4851,  8801,  1998,  6623,  7939,  4697,  3619,  1997,\n",
            "         8947,  2055,  2037, 10740,  2006,  4331,  1010,  2016,  2038,  3348,\n",
            "         2007,  2014,  3689,  3836,  1010, 19846,  1010,  1998,  2496,  2273,\n",
            "         1012,  1026,  7987,  1013,  1028,  1026,  7987,  1013,  1028,  2054,\n",
            "         8563,  2033,  2055,  1045,  2572,  8025,  1011,  3756,  2003,  2008,\n",
            "         2871,  2086,  3283,  1010,  2023,  2001,  2641, 26932,  1012,  2428,\n",
            "         1010,  1996,  3348,  1998, 16371, 25469,  5019,  2024,  2261,  1998,\n",
            "         2521,  2090,  1010,  2130,  2059,  2009,  1005,  1055,  2025,  2915,\n",
            "         2066,  2070, 10036,  2135,  2081, 22555,  2080,  1012,  2096,  2026,\n",
            "         2406,  3549,  2568,  2424,  2009, 16880,  1010,  1999,  4507,  3348,\n",
            "         1998, 16371, 25469,  2024,  1037,  2350, 18785,  1999,  4467,  5988,\n",
            "         1012,  2130, 13749,  7849, 24544,  1010, 15835,  2037,  3437,  2000,\n",
            "         2204,  2214,  2879,  2198,  4811,  1010,  2018,  3348,  5019,  1999,\n",
            "         2010,  3152,  1012,  1026,  7987,  1013,  1028,  1026,  7987,  1013,\n",
            "         1028,  1045,  2079,  4012,  3549,  2094,  1996, 16587,  2005,  1996,\n",
            "         2755,  2008,  2151,  3348,  3491,  1999,  1996,  2143,  2003,  3491,\n",
            "         2005,  6018,  5682,  2738,  2084,  2074,  2000,  5213,  2111,  1998,\n",
            "         2191,  2769,  2000,  2022,  3491,  1999, 26932, 12370,  1999,  2637,\n",
            "         1012,  1045,  2572,  8025,  1011,  3756,  2003,  1037,  2204,  2143,\n",
            "         2005,  3087,  5782,  2000,  2817,  1996,  6240,  1998, 14629,  1006,\n",
            "         2053, 26136,  3832,  1007,  1997,  4467,  5988,  1012,  2021,  2428,\n",
            "         1010,  2023,  2143,  2987,  1005,  1056,  2031,  2172,  1997,  1037,\n",
            "         5436,  1012,   102,     0,     0,     0,     0,     0,     0,     0,\n",
            "            0,     0,     0,     0,     0,     0,     0,     0,     0,     0,\n",
            "            0,     0,     0,     0,     0,     0,     0,     0,     0,     0,\n",
            "            0,     0,     0,     0,     0,     0,     0,     0,     0,     0,\n",
            "            0,     0,     0,     0,     0,     0,     0,     0,     0,     0,\n",
            "            0,     0,     0,     0,     0,     0,     0,     0,     0,     0,\n",
            "            0,     0,     0,     0,     0,     0,     0,     0,     0,     0,\n",
            "            0,     0,     0,     0,     0,     0,     0,     0,     0,     0,\n",
            "            0,     0,     0,     0,     0,     0,     0,     0,     0,     0,\n",
            "            0,     0,     0,     0,     0,     0,     0,     0,     0,     0,\n",
            "            0,     0,     0,     0,     0,     0,     0,     0,     0,     0,\n",
            "            0,     0,     0,     0,     0,     0,     0,     0,     0,     0,\n",
            "            0,     0,     0,     0,     0,     0,     0,     0,     0,     0,\n",
            "            0,     0,     0,     0,     0,     0,     0,     0,     0,     0,\n",
            "            0,     0,     0,     0,     0,     0,     0,     0,     0,     0,\n",
            "            0,     0]), 'token_type_ids': tensor([0, 0, 0, 0, 0, 0, 0, 0, 0, 0, 0, 0, 0, 0, 0, 0, 0, 0, 0, 0, 0, 0, 0, 0,\n",
            "        0, 0, 0, 0, 0, 0, 0, 0, 0, 0, 0, 0, 0, 0, 0, 0, 0, 0, 0, 0, 0, 0, 0, 0,\n",
            "        0, 0, 0, 0, 0, 0, 0, 0, 0, 0, 0, 0, 0, 0, 0, 0, 0, 0, 0, 0, 0, 0, 0, 0,\n",
            "        0, 0, 0, 0, 0, 0, 0, 0, 0, 0, 0, 0, 0, 0, 0, 0, 0, 0, 0, 0, 0, 0, 0, 0,\n",
            "        0, 0, 0, 0, 0, 0, 0, 0, 0, 0, 0, 0, 0, 0, 0, 0, 0, 0, 0, 0, 0, 0, 0, 0,\n",
            "        0, 0, 0, 0, 0, 0, 0, 0, 0, 0, 0, 0, 0, 0, 0, 0, 0, 0, 0, 0, 0, 0, 0, 0,\n",
            "        0, 0, 0, 0, 0, 0, 0, 0, 0, 0, 0, 0, 0, 0, 0, 0, 0, 0, 0, 0, 0, 0, 0, 0,\n",
            "        0, 0, 0, 0, 0, 0, 0, 0, 0, 0, 0, 0, 0, 0, 0, 0, 0, 0, 0, 0, 0, 0, 0, 0,\n",
            "        0, 0, 0, 0, 0, 0, 0, 0, 0, 0, 0, 0, 0, 0, 0, 0, 0, 0, 0, 0, 0, 0, 0, 0,\n",
            "        0, 0, 0, 0, 0, 0, 0, 0, 0, 0, 0, 0, 0, 0, 0, 0, 0, 0, 0, 0, 0, 0, 0, 0,\n",
            "        0, 0, 0, 0, 0, 0, 0, 0, 0, 0, 0, 0, 0, 0, 0, 0, 0, 0, 0, 0, 0, 0, 0, 0,\n",
            "        0, 0, 0, 0, 0, 0, 0, 0, 0, 0, 0, 0, 0, 0, 0, 0, 0, 0, 0, 0, 0, 0, 0, 0,\n",
            "        0, 0, 0, 0, 0, 0, 0, 0, 0, 0, 0, 0, 0, 0, 0, 0, 0, 0, 0, 0, 0, 0, 0, 0,\n",
            "        0, 0, 0, 0, 0, 0, 0, 0, 0, 0, 0, 0, 0, 0, 0, 0, 0, 0, 0, 0, 0, 0, 0, 0,\n",
            "        0, 0, 0, 0, 0, 0, 0, 0, 0, 0, 0, 0, 0, 0, 0, 0, 0, 0, 0, 0, 0, 0, 0, 0,\n",
            "        0, 0, 0, 0, 0, 0, 0, 0, 0, 0, 0, 0, 0, 0, 0, 0, 0, 0, 0, 0, 0, 0, 0, 0,\n",
            "        0, 0, 0, 0, 0, 0, 0, 0, 0, 0, 0, 0, 0, 0, 0, 0, 0, 0, 0, 0, 0, 0, 0, 0,\n",
            "        0, 0, 0, 0, 0, 0, 0, 0, 0, 0, 0, 0, 0, 0, 0, 0, 0, 0, 0, 0, 0, 0, 0, 0,\n",
            "        0, 0, 0, 0, 0, 0, 0, 0, 0, 0, 0, 0, 0, 0, 0, 0, 0, 0, 0, 0, 0, 0, 0, 0,\n",
            "        0, 0, 0, 0, 0, 0, 0, 0, 0, 0, 0, 0, 0, 0, 0, 0, 0, 0, 0, 0, 0, 0, 0, 0,\n",
            "        0, 0, 0, 0, 0, 0, 0, 0, 0, 0, 0, 0, 0, 0, 0, 0, 0, 0, 0, 0, 0, 0, 0, 0,\n",
            "        0, 0, 0, 0, 0, 0, 0, 0]), 'attention_mask': tensor([1, 1, 1, 1, 1, 1, 1, 1, 1, 1, 1, 1, 1, 1, 1, 1, 1, 1, 1, 1, 1, 1, 1, 1,\n",
            "        1, 1, 1, 1, 1, 1, 1, 1, 1, 1, 1, 1, 1, 1, 1, 1, 1, 1, 1, 1, 1, 1, 1, 1,\n",
            "        1, 1, 1, 1, 1, 1, 1, 1, 1, 1, 1, 1, 1, 1, 1, 1, 1, 1, 1, 1, 1, 1, 1, 1,\n",
            "        1, 1, 1, 1, 1, 1, 1, 1, 1, 1, 1, 1, 1, 1, 1, 1, 1, 1, 1, 1, 1, 1, 1, 1,\n",
            "        1, 1, 1, 1, 1, 1, 1, 1, 1, 1, 1, 1, 1, 1, 1, 1, 1, 1, 1, 1, 1, 1, 1, 1,\n",
            "        1, 1, 1, 1, 1, 1, 1, 1, 1, 1, 1, 1, 1, 1, 1, 1, 1, 1, 1, 1, 1, 1, 1, 1,\n",
            "        1, 1, 1, 1, 1, 1, 1, 1, 1, 1, 1, 1, 1, 1, 1, 1, 1, 1, 1, 1, 1, 1, 1, 1,\n",
            "        1, 1, 1, 1, 1, 1, 1, 1, 1, 1, 1, 1, 1, 1, 1, 1, 1, 1, 1, 1, 1, 1, 1, 1,\n",
            "        1, 1, 1, 1, 1, 1, 1, 1, 1, 1, 1, 1, 1, 1, 1, 1, 1, 1, 1, 1, 1, 1, 1, 1,\n",
            "        1, 1, 1, 1, 1, 1, 1, 1, 1, 1, 1, 1, 1, 1, 1, 1, 1, 1, 1, 1, 1, 1, 1, 1,\n",
            "        1, 1, 1, 1, 1, 1, 1, 1, 1, 1, 1, 1, 1, 1, 1, 1, 1, 1, 1, 1, 1, 1, 1, 1,\n",
            "        1, 1, 1, 1, 1, 1, 1, 1, 1, 1, 1, 1, 1, 1, 1, 1, 1, 1, 1, 1, 1, 1, 1, 1,\n",
            "        1, 1, 1, 1, 1, 1, 1, 1, 1, 1, 1, 1, 1, 1, 1, 1, 1, 1, 1, 1, 1, 1, 1, 1,\n",
            "        1, 1, 1, 1, 1, 1, 1, 1, 1, 1, 1, 1, 1, 1, 1, 1, 1, 1, 1, 1, 1, 1, 1, 1,\n",
            "        1, 1, 1, 1, 1, 1, 1, 1, 1, 1, 1, 1, 1, 1, 1, 1, 1, 1, 1, 1, 1, 1, 1, 1,\n",
            "        1, 1, 1, 0, 0, 0, 0, 0, 0, 0, 0, 0, 0, 0, 0, 0, 0, 0, 0, 0, 0, 0, 0, 0,\n",
            "        0, 0, 0, 0, 0, 0, 0, 0, 0, 0, 0, 0, 0, 0, 0, 0, 0, 0, 0, 0, 0, 0, 0, 0,\n",
            "        0, 0, 0, 0, 0, 0, 0, 0, 0, 0, 0, 0, 0, 0, 0, 0, 0, 0, 0, 0, 0, 0, 0, 0,\n",
            "        0, 0, 0, 0, 0, 0, 0, 0, 0, 0, 0, 0, 0, 0, 0, 0, 0, 0, 0, 0, 0, 0, 0, 0,\n",
            "        0, 0, 0, 0, 0, 0, 0, 0, 0, 0, 0, 0, 0, 0, 0, 0, 0, 0, 0, 0, 0, 0, 0, 0,\n",
            "        0, 0, 0, 0, 0, 0, 0, 0, 0, 0, 0, 0, 0, 0, 0, 0, 0, 0, 0, 0, 0, 0, 0, 0,\n",
            "        0, 0, 0, 0, 0, 0, 0, 0])}\n"
          ]
        }
      ],
      "source": [
        "print(tokenized_datasets[\"train\"][0])"
      ]
    },
    {
      "cell_type": "code",
      "execution_count": null,
      "id": "a596ea92-a624-43cc-a1cf-fa6bd7e9680a",
      "metadata": {
        "id": "a596ea92-a624-43cc-a1cf-fa6bd7e9680a",
        "outputId": "773a6209-e5e6-48d3-cd4a-c43072162c9d"
      },
      "outputs": [
        {
          "name": "stdout",
          "output_type": "stream",
          "text": [
            "Requirement already satisfied: scikit-learn in c:\\users\\farjad\\anaconda3\\envs\\vit-finetune\\lib\\site-packages (1.6.1)\n",
            "Requirement already satisfied: numpy>=1.19.5 in c:\\users\\farjad\\anaconda3\\envs\\vit-finetune\\lib\\site-packages (from scikit-learn) (2.1.2)\n",
            "Requirement already satisfied: scipy>=1.6.0 in c:\\users\\farjad\\anaconda3\\envs\\vit-finetune\\lib\\site-packages (from scikit-learn) (1.15.2)\n",
            "Requirement already satisfied: joblib>=1.2.0 in c:\\users\\farjad\\anaconda3\\envs\\vit-finetune\\lib\\site-packages (from scikit-learn) (1.4.2)\n",
            "Requirement already satisfied: threadpoolctl>=3.1.0 in c:\\users\\farjad\\anaconda3\\envs\\vit-finetune\\lib\\site-packages (from scikit-learn) (3.6.0)\n",
            "Note: you may need to restart the kernel to use updated packages.\n"
          ]
        }
      ],
      "source": [
        "pip install scikit-learn"
      ]
    },
    {
      "cell_type": "code",
      "execution_count": null,
      "id": "adb724a4-7524-4a9d-9cf1-e1c729bb17d1",
      "metadata": {
        "id": "adb724a4-7524-4a9d-9cf1-e1c729bb17d1"
      },
      "outputs": [],
      "source": [
        "from sklearn.metrics import accuracy_score\n",
        "\n",
        "def compute_metrics(eval_pred):\n",
        "    logits, labels = eval_pred\n",
        "    preds = logits.argmax(-1)\n",
        "    acc = accuracy_score(labels, preds)\n",
        "    return {\"accuracy\": acc}\n"
      ]
    },
    {
      "cell_type": "markdown",
      "id": "badb07cb-8bac-44d1-8929-fdeb86c03a14",
      "metadata": {
        "jp-MarkdownHeadingCollapsed": true,
        "id": "badb07cb-8bac-44d1-8929-fdeb86c03a14"
      },
      "source": [
        "# Method 1: Full Fine-Tuning"
      ]
    },
    {
      "cell_type": "code",
      "execution_count": null,
      "id": "6f191167-1979-44b6-a071-f23f9afde9ca",
      "metadata": {
        "id": "6f191167-1979-44b6-a071-f23f9afde9ca",
        "outputId": "efca6685-956f-49bf-f8f7-8d6d15a93665"
      },
      "outputs": [
        {
          "name": "stderr",
          "output_type": "stream",
          "text": [
            "Some weights of BertForSequenceClassification were not initialized from the model checkpoint at bert-base-uncased and are newly initialized: ['classifier.bias', 'classifier.weight']\n",
            "You should probably TRAIN this model on a down-stream task to be able to use it for predictions and inference.\n"
          ]
        }
      ],
      "source": [
        "from transformers import AutoModelForSequenceClassification, AutoTokenizer\n",
        "\n",
        "model_name = \"bert-base-uncased\"\n",
        "tokenizer = AutoTokenizer.from_pretrained(model_name)\n",
        "model = AutoModelForSequenceClassification.from_pretrained(model_name, num_labels=2)"
      ]
    },
    {
      "cell_type": "code",
      "execution_count": null,
      "id": "17a6aa33-a5dd-4ac0-9158-9187138b40d5",
      "metadata": {
        "id": "17a6aa33-a5dd-4ac0-9158-9187138b40d5",
        "outputId": "a3940916-65a3-413c-9fa1-a0020bae146d"
      },
      "outputs": [
        {
          "name": "stderr",
          "output_type": "stream",
          "text": [
            "C:\\Users\\Farjad\\AppData\\Local\\Temp\\ipykernel_2408\\3921670201.py:16: FutureWarning: `tokenizer` is deprecated and will be removed in version 5.0.0 for `Trainer.__init__`. Use `processing_class` instead.\n",
            "  Fine_Tune_trainer = Trainer(\n"
          ]
        }
      ],
      "source": [
        "from transformers import TrainingArguments, Trainer\n",
        "\n",
        "training_args = TrainingArguments(\n",
        "    output_dir=\"./results/full_finetune\",\n",
        "    eval_strategy=\"epoch\",\n",
        "    save_strategy=\"epoch\",\n",
        "    learning_rate=2e-5,\n",
        "    per_device_train_batch_size=16,\n",
        "    per_device_eval_batch_size=16,\n",
        "    num_train_epochs=3,\n",
        "    weight_decay=0.01,\n",
        "    logging_dir='./logs',\n",
        "    logging_steps=10,\n",
        ")\n",
        "\n",
        "Fine_Tune_trainer = Trainer(\n",
        "    model=model,\n",
        "    args=training_args,\n",
        "    train_dataset=tokenized_datasets[\"train\"],\n",
        "    eval_dataset=tokenized_datasets[\"test\"],\n",
        "    tokenizer=tokenizer,\n",
        "    compute_metrics=compute_metrics\n",
        ")\n"
      ]
    },
    {
      "cell_type": "code",
      "execution_count": null,
      "id": "2a39be4e-5892-4282-9321-c775daee68b9",
      "metadata": {
        "id": "2a39be4e-5892-4282-9321-c775daee68b9",
        "outputId": "af119df9-65a6-4ce6-81a2-a54e94e76905"
      },
      "outputs": [
        {
          "data": {
            "text/html": [
              "\n",
              "    <div>\n",
              "      \n",
              "      <progress value='4689' max='4689' style='width:300px; height:20px; vertical-align: middle;'></progress>\n",
              "      [4689/4689 44:16, Epoch 3/3]\n",
              "    </div>\n",
              "    <table border=\"1\" class=\"dataframe\">\n",
              "  <thead>\n",
              " <tr style=\"text-align: left;\">\n",
              "      <th>Epoch</th>\n",
              "      <th>Training Loss</th>\n",
              "      <th>Validation Loss</th>\n",
              "      <th>Accuracy</th>\n",
              "    </tr>\n",
              "  </thead>\n",
              "  <tbody>\n",
              "    <tr>\n",
              "      <td>1</td>\n",
              "      <td>0.240800</td>\n",
              "      <td>0.224462</td>\n",
              "      <td>0.916960</td>\n",
              "    </tr>\n",
              "    <tr>\n",
              "      <td>2</td>\n",
              "      <td>0.103700</td>\n",
              "      <td>0.202607</td>\n",
              "      <td>0.941480</td>\n",
              "    </tr>\n",
              "    <tr>\n",
              "      <td>3</td>\n",
              "      <td>0.068500</td>\n",
              "      <td>0.261602</td>\n",
              "      <td>0.941520</td>\n",
              "    </tr>\n",
              "  </tbody>\n",
              "</table><p>"
            ],
            "text/plain": [
              "<IPython.core.display.HTML object>"
            ]
          },
          "metadata": {},
          "output_type": "display_data"
        },
        {
          "data": {
            "text/plain": [
              "TrainOutput(global_step=4689, training_loss=0.14623986547075946, metrics={'train_runtime': 2657.1804, 'train_samples_per_second': 28.225, 'train_steps_per_second': 1.765, 'total_flos': 1.9733329152e+16, 'train_loss': 0.14623986547075946, 'epoch': 3.0})"
            ]
          },
          "execution_count": 47,
          "metadata": {},
          "output_type": "execute_result"
        }
      ],
      "source": [
        "Fine_Tune_trainer.train()"
      ]
    },
    {
      "cell_type": "code",
      "execution_count": null,
      "id": "0eed9a8b-bdb5-469c-a13b-ce980e779ece",
      "metadata": {
        "id": "0eed9a8b-bdb5-469c-a13b-ce980e779ece",
        "outputId": "1f252d74-b68f-47bc-ade2-eb144120137d"
      },
      "outputs": [
        {
          "data": {
            "text/html": [
              "\n",
              "    <div>\n",
              "      \n",
              "      <progress value='1563' max='1563' style='width:300px; height:20px; vertical-align: middle;'></progress>\n",
              "      [1563/1563 03:37]\n",
              "    </div>\n",
              "    "
            ],
            "text/plain": [
              "<IPython.core.display.HTML object>"
            ]
          },
          "metadata": {},
          "output_type": "display_data"
        },
        {
          "name": "stdout",
          "output_type": "stream",
          "text": [
            "0.94152\n"
          ]
        }
      ],
      "source": [
        "Full_fineTuning_results = Fine_Tune_trainer.evaluate()\n",
        "print(Full_fineTuning_results[\"eval_accuracy\"])\n"
      ]
    },
    {
      "cell_type": "markdown",
      "id": "ab54879c-8cff-43c0-9713-aa167f340bee",
      "metadata": {
        "jp-MarkdownHeadingCollapsed": true,
        "id": "ab54879c-8cff-43c0-9713-aa167f340bee"
      },
      "source": [
        "# Method 2: LoRA Fine-Tuning using PEFT"
      ]
    },
    {
      "cell_type": "code",
      "execution_count": null,
      "id": "463bfb54-f627-48ac-a5aa-a24a1a8d8672",
      "metadata": {
        "id": "463bfb54-f627-48ac-a5aa-a24a1a8d8672"
      },
      "outputs": [],
      "source": [
        "from transformers import AutoTokenizer, AutoModelForSequenceClassification, TrainingArguments, Trainer\n",
        "from peft import get_peft_model, LoraConfig, TaskType\n"
      ]
    },
    {
      "cell_type": "code",
      "execution_count": null,
      "id": "dd2a817c-4ad7-43d2-90c2-ecadc76d01ce",
      "metadata": {
        "id": "dd2a817c-4ad7-43d2-90c2-ecadc76d01ce",
        "outputId": "3729bb36-696a-41b7-861c-42d614d2443f"
      },
      "outputs": [
        {
          "name": "stderr",
          "output_type": "stream",
          "text": [
            "Some weights of BertForSequenceClassification were not initialized from the model checkpoint at bert-base-uncased and are newly initialized: ['classifier.bias', 'classifier.weight']\n",
            "You should probably TRAIN this model on a down-stream task to be able to use it for predictions and inference.\n"
          ]
        }
      ],
      "source": [
        "model_name = \"bert-base-uncased\"\n",
        "tokenizer = AutoTokenizer.from_pretrained(model_name)\n",
        "\n",
        "base_model = AutoModelForSequenceClassification.from_pretrained(model_name, num_labels=2)"
      ]
    },
    {
      "cell_type": "code",
      "execution_count": null,
      "id": "d688942e-899f-4e63-bbb7-ec53fd80836d",
      "metadata": {
        "id": "d688942e-899f-4e63-bbb7-ec53fd80836d",
        "outputId": "e1009690-016e-48a0-9801-f3cc86ea5600"
      },
      "outputs": [
        {
          "name": "stdout",
          "output_type": "stream",
          "text": [
            "trainable params: 296,450 || all params: 109,780,228 || trainable%: 0.2700\n"
          ]
        }
      ],
      "source": [
        "lora_config = LoraConfig(\n",
        "    r=8,\n",
        "    lora_alpha=16,\n",
        "    target_modules=[\"query\", \"value\"],\n",
        "    lora_dropout=0.1,\n",
        "    bias=\"none\",\n",
        "    task_type=TaskType.SEQ_CLS\n",
        ")\n",
        "\n",
        "lora_model = get_peft_model(base_model, lora_config)\n",
        "lora_model.print_trainable_parameters()\n"
      ]
    },
    {
      "cell_type": "code",
      "execution_count": null,
      "id": "73b34a40-5974-4be5-ba64-7b4066000475",
      "metadata": {
        "id": "73b34a40-5974-4be5-ba64-7b4066000475"
      },
      "outputs": [],
      "source": [
        "training_args = TrainingArguments(\n",
        "    output_dir=\"./results/lora_finetune\",\n",
        "    eval_strategy=\"epoch\",  # Using your working arg here\n",
        "    save_strategy=\"epoch\",\n",
        "    learning_rate=2e-4,\n",
        "    per_device_train_batch_size=16,\n",
        "    per_device_eval_batch_size=16,\n",
        "    num_train_epochs=3,\n",
        "    weight_decay=0.01,\n",
        "    logging_dir='./logs',\n",
        "    logging_steps=10,\n",
        "    report_to=\"none\"  # Disable W&B logging if not using\n",
        ")\n"
      ]
    },
    {
      "cell_type": "code",
      "execution_count": null,
      "id": "17f301df-8d4a-425d-9817-ee1729bdfb5d",
      "metadata": {
        "id": "17f301df-8d4a-425d-9817-ee1729bdfb5d",
        "outputId": "0233c29f-4159-42ae-f999-b4a1799ca11e"
      },
      "outputs": [
        {
          "name": "stderr",
          "output_type": "stream",
          "text": [
            "C:\\Users\\Farjad\\AppData\\Local\\Temp\\ipykernel_2408\\930782421.py:1: FutureWarning: `tokenizer` is deprecated and will be removed in version 5.0.0 for `Trainer.__init__`. Use `processing_class` instead.\n",
            "  LoRa_trainer = Trainer(\n"
          ]
        },
        {
          "data": {
            "text/html": [
              "\n",
              "    <div>\n",
              "      \n",
              "      <progress value='4689' max='4689' style='width:300px; height:20px; vertical-align: middle;'></progress>\n",
              "      [4689/4689 38:26, Epoch 3/3]\n",
              "    </div>\n",
              "    <table border=\"1\" class=\"dataframe\">\n",
              "  <thead>\n",
              " <tr style=\"text-align: left;\">\n",
              "      <th>Epoch</th>\n",
              "      <th>Training Loss</th>\n",
              "      <th>Validation Loss</th>\n",
              "      <th>Accuracy</th>\n",
              "    </tr>\n",
              "  </thead>\n",
              "  <tbody>\n",
              "    <tr>\n",
              "      <td>1</td>\n",
              "      <td>0.274000</td>\n",
              "      <td>0.207095</td>\n",
              "      <td>0.918400</td>\n",
              "    </tr>\n",
              "    <tr>\n",
              "      <td>2</td>\n",
              "      <td>0.215400</td>\n",
              "      <td>0.190439</td>\n",
              "      <td>0.929000</td>\n",
              "    </tr>\n",
              "    <tr>\n",
              "      <td>3</td>\n",
              "      <td>0.167200</td>\n",
              "      <td>0.192192</td>\n",
              "      <td>0.932560</td>\n",
              "    </tr>\n",
              "  </tbody>\n",
              "</table><p>"
            ],
            "text/plain": [
              "<IPython.core.display.HTML object>"
            ]
          },
          "metadata": {},
          "output_type": "display_data"
        },
        {
          "data": {
            "text/plain": [
              "TrainOutput(global_step=4689, training_loss=0.22074096997070475, metrics={'train_runtime': 2306.8627, 'train_samples_per_second': 32.512, 'train_steps_per_second': 2.033, 'total_flos': 1.9801631232e+16, 'train_loss': 0.22074096997070475, 'epoch': 3.0})"
            ]
          },
          "execution_count": 54,
          "metadata": {},
          "output_type": "execute_result"
        }
      ],
      "source": [
        "LoRa_trainer = Trainer(\n",
        "    model=lora_model,\n",
        "    args=training_args,\n",
        "    train_dataset=tokenized_datasets[\"train\"],\n",
        "    eval_dataset=tokenized_datasets[\"test\"],\n",
        "    tokenizer=tokenizer,\n",
        "    compute_metrics=compute_metrics\n",
        ")\n",
        "\n",
        "LoRa_trainer.train()\n"
      ]
    },
    {
      "cell_type": "code",
      "execution_count": null,
      "id": "25303573-05fe-434b-a7f9-ae974a054215",
      "metadata": {
        "id": "25303573-05fe-434b-a7f9-ae974a054215",
        "outputId": "024450bb-d4bf-4614-b54a-4c32691b6f08"
      },
      "outputs": [
        {
          "data": {
            "text/html": [
              "\n",
              "    <div>\n",
              "      \n",
              "      <progress value='1563' max='1563' style='width:300px; height:20px; vertical-align: middle;'></progress>\n",
              "      [1563/1563 03:46]\n",
              "    </div>\n",
              "    "
            ],
            "text/plain": [
              "<IPython.core.display.HTML object>"
            ]
          },
          "metadata": {},
          "output_type": "display_data"
        },
        {
          "name": "stdout",
          "output_type": "stream",
          "text": [
            "0.93256\n"
          ]
        }
      ],
      "source": [
        "Lora_results = LoRa_trainer.evaluate()\n",
        "print(Lora_results[\"eval_accuracy\"])"
      ]
    },
    {
      "cell_type": "markdown",
      "id": "8e964afe-fe7d-4c6b-bece-dc4d869248d9",
      "metadata": {
        "jp-MarkdownHeadingCollapsed": true,
        "id": "8e964afe-fe7d-4c6b-bece-dc4d869248d9"
      },
      "source": [
        "# Method 3: QLoRA Fine-Tuning\n",
        "● Quantize the base model to 4-bit precision.\n",
        "● Apply LoRA on top and fine-tune accordingly."
      ]
    },
    {
      "cell_type": "code",
      "execution_count": null,
      "id": "d0259bf9-42a0-4e02-b8d1-8eaa18c541cb",
      "metadata": {
        "id": "d0259bf9-42a0-4e02-b8d1-8eaa18c541cb"
      },
      "outputs": [],
      "source": [
        "from transformers import (\n",
        "    AutoTokenizer,\n",
        "    AutoModelForSequenceClassification,\n",
        "    TrainingArguments,\n",
        "    Trainer,\n",
        "    BitsAndBytesConfig\n",
        ")\n",
        "from peft import prepare_model_for_kbit_training, LoraConfig, get_peft_model\n",
        "import torch"
      ]
    },
    {
      "cell_type": "code",
      "execution_count": null,
      "id": "5baf79a7-c14b-46ad-8621-c9ca81e15f67",
      "metadata": {
        "id": "5baf79a7-c14b-46ad-8621-c9ca81e15f67",
        "outputId": "df2d8ba6-89f2-4ba3-ba50-00a74c6477ed"
      },
      "outputs": [
        {
          "name": "stderr",
          "output_type": "stream",
          "text": [
            "`low_cpu_mem_usage` was None, now default to True since model is quantized.\n",
            "Some weights of BertForSequenceClassification were not initialized from the model checkpoint at bert-base-uncased and are newly initialized: ['classifier.bias', 'classifier.weight']\n",
            "You should probably TRAIN this model on a down-stream task to be able to use it for predictions and inference.\n"
          ]
        }
      ],
      "source": [
        "bnb_config = BitsAndBytesConfig(\n",
        "    load_in_4bit=True,\n",
        "    bnb_4bit_quant_type=\"nf4\",\n",
        "    bnb_4bit_use_double_quant=True,\n",
        "    bnb_4bit_compute_dtype=torch.float16\n",
        ")\n",
        "\n",
        "# 3. Load quantized BERT model\n",
        "model = AutoModelForSequenceClassification.from_pretrained(\n",
        "    \"bert-base-uncased\",\n",
        "    num_labels=2,\n",
        "    quantization_config=bnb_config\n",
        ")\n",
        "\n",
        "\n",
        "model = prepare_model_for_kbit_training(model)\n",
        "\n",
        "lora_config = LoraConfig(\n",
        "    r=8,\n",
        "    lora_alpha=16,\n",
        "    lora_dropout=0.1,\n",
        "    bias=\"none\",\n",
        "    task_type=\"SEQ_CLS\",\n",
        "    target_modules=[\"query\", \"key\", \"value\", \"dense\"]\n",
        ")\n",
        "model = get_peft_model(model, lora_config)"
      ]
    },
    {
      "cell_type": "code",
      "execution_count": null,
      "id": "7c284ea2-62d3-4719-a005-51c91ba7cb18",
      "metadata": {
        "id": "7c284ea2-62d3-4719-a005-51c91ba7cb18",
        "outputId": "7195f852-5191-4935-e0f5-073a5b8e0fa3"
      },
      "outputs": [
        {
          "name": "stderr",
          "output_type": "stream",
          "text": [
            "C:\\Users\\Farjad\\anaconda3\\envs\\vit-finetune\\lib\\site-packages\\transformers\\training_args.py:1575: FutureWarning: `evaluation_strategy` is deprecated and will be removed in version 4.46 of 🤗 Transformers. Use `eval_strategy` instead\n",
            "  warnings.warn(\n"
          ]
        }
      ],
      "source": [
        "# 6. Define training arguments\n",
        "training_args = TrainingArguments(\n",
        "    output_dir=\"./results-qlora-bert\",\n",
        "    per_device_train_batch_size=8,\n",
        "    per_device_eval_batch_size=8,\n",
        "    num_train_epochs=3,\n",
        "    evaluation_strategy=\"epoch\",\n",
        "    learning_rate=2e-4,\n",
        "    logging_dir=\"./logs\",\n",
        "    logging_steps=10,\n",
        "    report_to=\"none\"\n",
        ")"
      ]
    },
    {
      "cell_type": "code",
      "execution_count": null,
      "id": "9e829107-6808-45b9-9bef-139d5da900fd",
      "metadata": {
        "id": "9e829107-6808-45b9-9bef-139d5da900fd",
        "outputId": "cf8304d3-3baf-4fdd-f96a-487c41a90a8a"
      },
      "outputs": [
        {
          "name": "stderr",
          "output_type": "stream",
          "text": [
            "C:\\Users\\Farjad\\AppData\\Local\\Temp\\ipykernel_2408\\4255137600.py:1: FutureWarning: `tokenizer` is deprecated and will be removed in version 5.0.0 for `Trainer.__init__`. Use `processing_class` instead.\n",
            "  QLoRa_trainer = Trainer(\n",
            "C:\\Users\\Farjad\\anaconda3\\envs\\vit-finetune\\lib\\site-packages\\torch\\_dynamo\\eval_frame.py:838: UserWarning: torch.utils.checkpoint: the use_reentrant parameter should be passed explicitly. In version 2.5 we will raise an exception if use_reentrant is not passed. use_reentrant=False is recommended, but if you need to preserve the current default behavior, you can pass use_reentrant=True. Refer to docs for more details on the differences between the two variants.\n",
            "  return fn(*args, **kwargs)\n"
          ]
        },
        {
          "data": {
            "text/html": [
              "\n",
              "    <div>\n",
              "      \n",
              "      <progress value='9375' max='9375' style='width:300px; height:20px; vertical-align: middle;'></progress>\n",
              "      [9375/9375 1:07:09, Epoch 3/3]\n",
              "    </div>\n",
              "    <table border=\"1\" class=\"dataframe\">\n",
              "  <thead>\n",
              " <tr style=\"text-align: left;\">\n",
              "      <th>Epoch</th>\n",
              "      <th>Training Loss</th>\n",
              "      <th>Validation Loss</th>\n",
              "      <th>Accuracy</th>\n",
              "    </tr>\n",
              "  </thead>\n",
              "  <tbody>\n",
              "    <tr>\n",
              "      <td>1</td>\n",
              "      <td>0.210800</td>\n",
              "      <td>0.243619</td>\n",
              "      <td>0.919480</td>\n",
              "    </tr>\n",
              "    <tr>\n",
              "      <td>2</td>\n",
              "      <td>0.127000</td>\n",
              "      <td>0.184663</td>\n",
              "      <td>0.936640</td>\n",
              "    </tr>\n",
              "    <tr>\n",
              "      <td>3</td>\n",
              "      <td>0.062500</td>\n",
              "      <td>0.230270</td>\n",
              "      <td>0.938840</td>\n",
              "    </tr>\n",
              "  </tbody>\n",
              "</table><p>"
            ],
            "text/plain": [
              "<IPython.core.display.HTML object>"
            ]
          },
          "metadata": {},
          "output_type": "display_data"
        },
        {
          "name": "stderr",
          "output_type": "stream",
          "text": [
            "C:\\Users\\Farjad\\anaconda3\\envs\\vit-finetune\\lib\\site-packages\\torch\\_dynamo\\eval_frame.py:838: UserWarning: torch.utils.checkpoint: the use_reentrant parameter should be passed explicitly. In version 2.5 we will raise an exception if use_reentrant is not passed. use_reentrant=False is recommended, but if you need to preserve the current default behavior, you can pass use_reentrant=True. Refer to docs for more details on the differences between the two variants.\n",
            "  return fn(*args, **kwargs)\n",
            "C:\\Users\\Farjad\\anaconda3\\envs\\vit-finetune\\lib\\site-packages\\torch\\_dynamo\\eval_frame.py:838: UserWarning: torch.utils.checkpoint: the use_reentrant parameter should be passed explicitly. In version 2.5 we will raise an exception if use_reentrant is not passed. use_reentrant=False is recommended, but if you need to preserve the current default behavior, you can pass use_reentrant=True. Refer to docs for more details on the differences between the two variants.\n",
            "  return fn(*args, **kwargs)\n",
            "C:\\Users\\Farjad\\anaconda3\\envs\\vit-finetune\\lib\\site-packages\\torch\\_dynamo\\eval_frame.py:838: UserWarning: torch.utils.checkpoint: the use_reentrant parameter should be passed explicitly. In version 2.5 we will raise an exception if use_reentrant is not passed. use_reentrant=False is recommended, but if you need to preserve the current default behavior, you can pass use_reentrant=True. Refer to docs for more details on the differences between the two variants.\n",
            "  return fn(*args, **kwargs)\n",
            "C:\\Users\\Farjad\\anaconda3\\envs\\vit-finetune\\lib\\site-packages\\torch\\_dynamo\\eval_frame.py:838: UserWarning: torch.utils.checkpoint: the use_reentrant parameter should be passed explicitly. In version 2.5 we will raise an exception if use_reentrant is not passed. use_reentrant=False is recommended, but if you need to preserve the current default behavior, you can pass use_reentrant=True. Refer to docs for more details on the differences between the two variants.\n",
            "  return fn(*args, **kwargs)\n",
            "C:\\Users\\Farjad\\anaconda3\\envs\\vit-finetune\\lib\\site-packages\\torch\\_dynamo\\eval_frame.py:838: UserWarning: torch.utils.checkpoint: the use_reentrant parameter should be passed explicitly. In version 2.5 we will raise an exception if use_reentrant is not passed. use_reentrant=False is recommended, but if you need to preserve the current default behavior, you can pass use_reentrant=True. Refer to docs for more details on the differences between the two variants.\n",
            "  return fn(*args, **kwargs)\n",
            "C:\\Users\\Farjad\\anaconda3\\envs\\vit-finetune\\lib\\site-packages\\torch\\_dynamo\\eval_frame.py:838: UserWarning: torch.utils.checkpoint: the use_reentrant parameter should be passed explicitly. In version 2.5 we will raise an exception if use_reentrant is not passed. use_reentrant=False is recommended, but if you need to preserve the current default behavior, you can pass use_reentrant=True. Refer to docs for more details on the differences between the two variants.\n",
            "  return fn(*args, **kwargs)\n",
            "C:\\Users\\Farjad\\anaconda3\\envs\\vit-finetune\\lib\\site-packages\\torch\\_dynamo\\eval_frame.py:838: UserWarning: torch.utils.checkpoint: the use_reentrant parameter should be passed explicitly. In version 2.5 we will raise an exception if use_reentrant is not passed. use_reentrant=False is recommended, but if you need to preserve the current default behavior, you can pass use_reentrant=True. Refer to docs for more details on the differences between the two variants.\n",
            "  return fn(*args, **kwargs)\n",
            "C:\\Users\\Farjad\\anaconda3\\envs\\vit-finetune\\lib\\site-packages\\torch\\_dynamo\\eval_frame.py:838: UserWarning: torch.utils.checkpoint: the use_reentrant parameter should be passed explicitly. In version 2.5 we will raise an exception if use_reentrant is not passed. use_reentrant=False is recommended, but if you need to preserve the current default behavior, you can pass use_reentrant=True. Refer to docs for more details on the differences between the two variants.\n",
            "  return fn(*args, **kwargs)\n",
            "C:\\Users\\Farjad\\anaconda3\\envs\\vit-finetune\\lib\\site-packages\\torch\\_dynamo\\eval_frame.py:838: UserWarning: torch.utils.checkpoint: the use_reentrant parameter should be passed explicitly. In version 2.5 we will raise an exception if use_reentrant is not passed. use_reentrant=False is recommended, but if you need to preserve the current default behavior, you can pass use_reentrant=True. Refer to docs for more details on the differences between the two variants.\n",
            "  return fn(*args, **kwargs)\n",
            "C:\\Users\\Farjad\\anaconda3\\envs\\vit-finetune\\lib\\site-packages\\torch\\_dynamo\\eval_frame.py:838: UserWarning: torch.utils.checkpoint: the use_reentrant parameter should be passed explicitly. In version 2.5 we will raise an exception if use_reentrant is not passed. use_reentrant=False is recommended, but if you need to preserve the current default behavior, you can pass use_reentrant=True. Refer to docs for more details on the differences between the two variants.\n",
            "  return fn(*args, **kwargs)\n",
            "C:\\Users\\Farjad\\anaconda3\\envs\\vit-finetune\\lib\\site-packages\\torch\\_dynamo\\eval_frame.py:838: UserWarning: torch.utils.checkpoint: the use_reentrant parameter should be passed explicitly. In version 2.5 we will raise an exception if use_reentrant is not passed. use_reentrant=False is recommended, but if you need to preserve the current default behavior, you can pass use_reentrant=True. Refer to docs for more details on the differences between the two variants.\n",
            "  return fn(*args, **kwargs)\n",
            "C:\\Users\\Farjad\\anaconda3\\envs\\vit-finetune\\lib\\site-packages\\torch\\_dynamo\\eval_frame.py:838: UserWarning: torch.utils.checkpoint: the use_reentrant parameter should be passed explicitly. In version 2.5 we will raise an exception if use_reentrant is not passed. use_reentrant=False is recommended, but if you need to preserve the current default behavior, you can pass use_reentrant=True. Refer to docs for more details on the differences between the two variants.\n",
            "  return fn(*args, **kwargs)\n",
            "C:\\Users\\Farjad\\anaconda3\\envs\\vit-finetune\\lib\\site-packages\\torch\\_dynamo\\eval_frame.py:838: UserWarning: torch.utils.checkpoint: the use_reentrant parameter should be passed explicitly. In version 2.5 we will raise an exception if use_reentrant is not passed. use_reentrant=False is recommended, but if you need to preserve the current default behavior, you can pass use_reentrant=True. Refer to docs for more details on the differences between the two variants.\n",
            "  return fn(*args, **kwargs)\n",
            "C:\\Users\\Farjad\\anaconda3\\envs\\vit-finetune\\lib\\site-packages\\torch\\_dynamo\\eval_frame.py:838: UserWarning: torch.utils.checkpoint: the use_reentrant parameter should be passed explicitly. In version 2.5 we will raise an exception if use_reentrant is not passed. use_reentrant=False is recommended, but if you need to preserve the current default behavior, you can pass use_reentrant=True. Refer to docs for more details on the differences between the two variants.\n",
            "  return fn(*args, **kwargs)\n",
            "C:\\Users\\Farjad\\anaconda3\\envs\\vit-finetune\\lib\\site-packages\\torch\\_dynamo\\eval_frame.py:838: UserWarning: torch.utils.checkpoint: the use_reentrant parameter should be passed explicitly. In version 2.5 we will raise an exception if use_reentrant is not passed. use_reentrant=False is recommended, but if you need to preserve the current default behavior, you can pass use_reentrant=True. Refer to docs for more details on the differences between the two variants.\n",
            "  return fn(*args, **kwargs)\n",
            "C:\\Users\\Farjad\\anaconda3\\envs\\vit-finetune\\lib\\site-packages\\torch\\_dynamo\\eval_frame.py:838: UserWarning: torch.utils.checkpoint: the use_reentrant parameter should be passed explicitly. In version 2.5 we will raise an exception if use_reentrant is not passed. use_reentrant=False is recommended, but if you need to preserve the current default behavior, you can pass use_reentrant=True. Refer to docs for more details on the differences between the two variants.\n",
            "  return fn(*args, **kwargs)\n",
            "C:\\Users\\Farjad\\anaconda3\\envs\\vit-finetune\\lib\\site-packages\\torch\\_dynamo\\eval_frame.py:838: UserWarning: torch.utils.checkpoint: the use_reentrant parameter should be passed explicitly. In version 2.5 we will raise an exception if use_reentrant is not passed. use_reentrant=False is recommended, but if you need to preserve the current default behavior, you can pass use_reentrant=True. Refer to docs for more details on the differences between the two variants.\n",
            "  return fn(*args, **kwargs)\n",
            "C:\\Users\\Farjad\\anaconda3\\envs\\vit-finetune\\lib\\site-packages\\torch\\_dynamo\\eval_frame.py:838: UserWarning: torch.utils.checkpoint: the use_reentrant parameter should be passed explicitly. In version 2.5 we will raise an exception if use_reentrant is not passed. use_reentrant=False is recommended, but if you need to preserve the current default behavior, you can pass use_reentrant=True. Refer to docs for more details on the differences between the two variants.\n",
            "  return fn(*args, **kwargs)\n",
            "C:\\Users\\Farjad\\anaconda3\\envs\\vit-finetune\\lib\\site-packages\\torch\\_dynamo\\eval_frame.py:838: UserWarning: torch.utils.checkpoint: the use_reentrant parameter should be passed explicitly. In version 2.5 we will raise an exception if use_reentrant is not passed. use_reentrant=False is recommended, but if you need to preserve the current default behavior, you can pass use_reentrant=True. Refer to docs for more details on the differences between the two variants.\n",
            "  return fn(*args, **kwargs)\n",
            "C:\\Users\\Farjad\\anaconda3\\envs\\vit-finetune\\lib\\site-packages\\torch\\_dynamo\\eval_frame.py:838: UserWarning: torch.utils.checkpoint: the use_reentrant parameter should be passed explicitly. In version 2.5 we will raise an exception if use_reentrant is not passed. use_reentrant=False is recommended, but if you need to preserve the current default behavior, you can pass use_reentrant=True. Refer to docs for more details on the differences between the two variants.\n",
            "  return fn(*args, **kwargs)\n"
          ]
        },
        {
          "data": {
            "text/plain": [
              "TrainOutput(global_step=9375, training_loss=0.20000637111723424, metrics={'train_runtime': 4029.8172, 'train_samples_per_second': 18.611, 'train_steps_per_second': 2.326, 'total_flos': 2.0042279424e+16, 'train_loss': 0.20000637111723424, 'epoch': 3.0})"
            ]
          },
          "execution_count": 59,
          "metadata": {},
          "output_type": "execute_result"
        }
      ],
      "source": [
        "\n",
        "QLoRa_trainer = Trainer(\n",
        "    model=model,\n",
        "    args=training_args,\n",
        "    train_dataset=tokenized_datasets[\"train\"],\n",
        "    eval_dataset=tokenized_datasets[\"test\"],\n",
        "    tokenizer=tokenizer,\n",
        "    compute_metrics=compute_metrics\n",
        ")\n",
        "\n",
        "\n",
        "QLoRa_trainer.train()"
      ]
    },
    {
      "cell_type": "code",
      "execution_count": null,
      "id": "727fd779-d0a0-497f-928a-dd82a8882548",
      "metadata": {
        "id": "727fd779-d0a0-497f-928a-dd82a8882548",
        "outputId": "49f6665d-2a1b-463c-8534-73692c04bb74"
      },
      "outputs": [
        {
          "data": {
            "text/html": [
              "\n",
              "    <div>\n",
              "      \n",
              "      <progress value='3125' max='3125' style='width:300px; height:20px; vertical-align: middle;'></progress>\n",
              "      [3125/3125 04:54]\n",
              "    </div>\n",
              "    "
            ],
            "text/plain": [
              "<IPython.core.display.HTML object>"
            ]
          },
          "metadata": {},
          "output_type": "display_data"
        },
        {
          "name": "stdout",
          "output_type": "stream",
          "text": [
            "0.93884\n"
          ]
        }
      ],
      "source": [
        "QLora_results = QLoRa_trainer.evaluate()\n",
        "print(QLora_results[\"eval_accuracy\"])"
      ]
    },
    {
      "cell_type": "markdown",
      "id": "25c170e6-7f79-4c76-a9bb-85e49d527ba5",
      "metadata": {
        "jp-MarkdownHeadingCollapsed": true,
        "id": "25c170e6-7f79-4c76-a9bb-85e49d527ba5"
      },
      "source": [
        "# Method 4: Adapter Tuning (IA3)\n",
        "● Insert IA3-style adapters and fine-tune them while keeping the rest of the model frozen."
      ]
    },
    {
      "cell_type": "code",
      "execution_count": null,
      "id": "55c6aff9-0552-4521-ad52-444426da6ab4",
      "metadata": {
        "id": "55c6aff9-0552-4521-ad52-444426da6ab4",
        "outputId": "9b0051e9-8a97-4547-8ccf-68e33605846d"
      },
      "outputs": [
        {
          "name": "stdout",
          "output_type": "stream",
          "text": [
            "Requirement already satisfied: peft in c:\\users\\farjad\\anaconda3\\envs\\vit-finetune\\lib\\site-packages (0.15.2)\n",
            "Requirement already satisfied: numpy>=1.17 in c:\\users\\farjad\\anaconda3\\envs\\vit-finetune\\lib\\site-packages (from peft) (2.1.2)\n",
            "Requirement already satisfied: packaging>=20.0 in c:\\users\\farjad\\anaconda3\\envs\\vit-finetune\\lib\\site-packages (from peft) (25.0)\n",
            "Requirement already satisfied: psutil in c:\\users\\farjad\\anaconda3\\envs\\vit-finetune\\lib\\site-packages (from peft) (7.0.0)\n",
            "Requirement already satisfied: pyyaml in c:\\users\\farjad\\anaconda3\\envs\\vit-finetune\\lib\\site-packages (from peft) (6.0.2)\n",
            "Requirement already satisfied: torch>=1.13.0 in c:\\users\\farjad\\anaconda3\\envs\\vit-finetune\\lib\\site-packages (from peft) (2.7.0+cu118)\n",
            "Requirement already satisfied: transformers in c:\\users\\farjad\\anaconda3\\envs\\vit-finetune\\lib\\site-packages (from peft) (4.48.3)\n",
            "Requirement already satisfied: tqdm in c:\\users\\farjad\\anaconda3\\envs\\vit-finetune\\lib\\site-packages (from peft) (4.67.1)\n",
            "Requirement already satisfied: accelerate>=0.21.0 in c:\\users\\farjad\\anaconda3\\envs\\vit-finetune\\lib\\site-packages (from peft) (1.6.0)\n",
            "Requirement already satisfied: safetensors in c:\\users\\farjad\\anaconda3\\envs\\vit-finetune\\lib\\site-packages (from peft) (0.5.3)\n",
            "Requirement already satisfied: huggingface_hub>=0.25.0 in c:\\users\\farjad\\anaconda3\\envs\\vit-finetune\\lib\\site-packages (from peft) (0.30.2)\n",
            "Requirement already satisfied: filelock in c:\\users\\farjad\\anaconda3\\envs\\vit-finetune\\lib\\site-packages (from huggingface_hub>=0.25.0->peft) (3.13.1)\n",
            "Requirement already satisfied: fsspec>=2023.5.0 in c:\\users\\farjad\\anaconda3\\envs\\vit-finetune\\lib\\site-packages (from huggingface_hub>=0.25.0->peft) (2024.6.1)\n",
            "Requirement already satisfied: requests in c:\\users\\farjad\\anaconda3\\envs\\vit-finetune\\lib\\site-packages (from huggingface_hub>=0.25.0->peft) (2.32.3)\n",
            "Requirement already satisfied: typing-extensions>=3.7.4.3 in c:\\users\\farjad\\anaconda3\\envs\\vit-finetune\\lib\\site-packages (from huggingface_hub>=0.25.0->peft) (4.12.2)\n",
            "Requirement already satisfied: sympy>=1.13.3 in c:\\users\\farjad\\anaconda3\\envs\\vit-finetune\\lib\\site-packages (from torch>=1.13.0->peft) (1.13.3)\n",
            "Requirement already satisfied: networkx in c:\\users\\farjad\\anaconda3\\envs\\vit-finetune\\lib\\site-packages (from torch>=1.13.0->peft) (3.3)\n",
            "Requirement already satisfied: jinja2 in c:\\users\\farjad\\anaconda3\\envs\\vit-finetune\\lib\\site-packages (from torch>=1.13.0->peft) (3.1.4)\n",
            "Requirement already satisfied: colorama in c:\\users\\farjad\\anaconda3\\envs\\vit-finetune\\lib\\site-packages (from tqdm->peft) (0.4.6)\n",
            "Requirement already satisfied: regex!=2019.12.17 in c:\\users\\farjad\\anaconda3\\envs\\vit-finetune\\lib\\site-packages (from transformers->peft) (2024.11.6)\n",
            "Requirement already satisfied: tokenizers<0.22,>=0.21 in c:\\users\\farjad\\anaconda3\\envs\\vit-finetune\\lib\\site-packages (from transformers->peft) (0.21.1)\n",
            "Requirement already satisfied: mpmath<1.4,>=1.1.0 in c:\\users\\farjad\\anaconda3\\envs\\vit-finetune\\lib\\site-packages (from sympy>=1.13.3->torch>=1.13.0->peft) (1.3.0)\n",
            "Requirement already satisfied: MarkupSafe>=2.0 in c:\\users\\farjad\\anaconda3\\envs\\vit-finetune\\lib\\site-packages (from jinja2->torch>=1.13.0->peft) (2.1.5)\n",
            "Requirement already satisfied: charset-normalizer<4,>=2 in c:\\users\\farjad\\anaconda3\\envs\\vit-finetune\\lib\\site-packages (from requests->huggingface_hub>=0.25.0->peft) (3.4.1)\n",
            "Requirement already satisfied: idna<4,>=2.5 in c:\\users\\farjad\\anaconda3\\envs\\vit-finetune\\lib\\site-packages (from requests->huggingface_hub>=0.25.0->peft) (3.10)\n",
            "Requirement already satisfied: urllib3<3,>=1.21.1 in c:\\users\\farjad\\anaconda3\\envs\\vit-finetune\\lib\\site-packages (from requests->huggingface_hub>=0.25.0->peft) (2.4.0)\n",
            "Requirement already satisfied: certifi>=2017.4.17 in c:\\users\\farjad\\anaconda3\\envs\\vit-finetune\\lib\\site-packages (from requests->huggingface_hub>=0.25.0->peft) (2025.1.31)\n",
            "Note: you may need to restart the kernel to use updated packages.\n"
          ]
        }
      ],
      "source": [
        "pip install peft"
      ]
    },
    {
      "cell_type": "code",
      "execution_count": null,
      "id": "3b3e234a-ece8-4541-88f2-c3d53fc3fe92",
      "metadata": {
        "id": "3b3e234a-ece8-4541-88f2-c3d53fc3fe92"
      },
      "outputs": [],
      "source": [
        "from transformers import BertForSequenceClassification, Trainer, TrainingArguments\n",
        "from peft import get_peft_model, IA3Config, TaskType"
      ]
    },
    {
      "cell_type": "code",
      "execution_count": null,
      "id": "4d7f84a7-e5bb-4671-b402-c538b994bc6c",
      "metadata": {
        "id": "4d7f84a7-e5bb-4671-b402-c538b994bc6c",
        "outputId": "0221efba-623c-43c6-9005-58372a114e42"
      },
      "outputs": [
        {
          "name": "stderr",
          "output_type": "stream",
          "text": [
            "Some weights of BertForSequenceClassification were not initialized from the model checkpoint at bert-base-uncased and are newly initialized: ['classifier.bias', 'classifier.weight']\n",
            "You should probably TRAIN this model on a down-stream task to be able to use it for predictions and inference.\n"
          ]
        }
      ],
      "source": [
        "model = BertForSequenceClassification.from_pretrained(\"bert-base-uncased\", num_labels=2)"
      ]
    },
    {
      "cell_type": "code",
      "execution_count": null,
      "id": "1f8d3ad0-4766-4e1c-a08e-f02cf820dd18",
      "metadata": {
        "id": "1f8d3ad0-4766-4e1c-a08e-f02cf820dd18",
        "outputId": "13adab61-26d8-4318-d28b-391260047393"
      },
      "outputs": [
        {
          "name": "stdout",
          "output_type": "stream",
          "text": [
            "trainable params: 75,266 || all params: 109,559,044 || trainable%: 0.0687\n"
          ]
        }
      ],
      "source": [
        "peft_config = IA3Config(\n",
        "    task_type=TaskType.SEQ_CLS,\n",
        "    inference_mode=False,\n",
        "    target_modules=[\"query\", \"value\", \"intermediate.dense\", \"output.dense\"],  # Full set\n",
        "    feedforward_modules=[\"intermediate.dense\", \"output.dense\"],  # Subset\n",
        ")\n",
        "\n",
        "\n",
        "model = get_peft_model(model, peft_config)\n",
        "model.print_trainable_parameters()\n"
      ]
    },
    {
      "cell_type": "code",
      "execution_count": null,
      "id": "80e2921a-8e0e-46bd-bfd1-bfe7190bdeb2",
      "metadata": {
        "id": "80e2921a-8e0e-46bd-bfd1-bfe7190bdeb2",
        "outputId": "40293a74-e281-4a60-e3ef-c50653959667"
      },
      "outputs": [
        {
          "name": "stderr",
          "output_type": "stream",
          "text": [
            "C:\\Users\\Farjad\\AppData\\Local\\Temp\\ipykernel_2408\\3876991372.py:14: FutureWarning: `tokenizer` is deprecated and will be removed in version 5.0.0 for `Trainer.__init__`. Use `processing_class` instead.\n",
            "  Adaptor_trainer = Trainer(\n"
          ]
        }
      ],
      "source": [
        "training_args = TrainingArguments(\n",
        "    output_dir=\"./results/ia3_tuning\",\n",
        "    eval_strategy=\"epoch\",  # Or \"no\" if you're not evaluating\n",
        "    save_strategy=\"epoch\",\n",
        "    learning_rate=2e-4,\n",
        "    per_device_train_batch_size=16,\n",
        "    per_device_eval_batch_size=16,\n",
        "    num_train_epochs=3,\n",
        "    weight_decay=0.01,\n",
        "    logging_dir=\"./logs_ia3\",\n",
        "    logging_steps=10,\n",
        ")\n",
        "\n",
        "Adaptor_trainer = Trainer(\n",
        "    model=model,\n",
        "    args=training_args,\n",
        "    train_dataset=tokenized_datasets[\"train\"],\n",
        "    eval_dataset=tokenized_datasets[\"test\"],\n",
        "    tokenizer=tokenizer,\n",
        "    compute_metrics=compute_metrics\n",
        ")\n"
      ]
    },
    {
      "cell_type": "code",
      "execution_count": null,
      "id": "0d189757-692f-4e19-8b3b-ce6d9ec520f1",
      "metadata": {
        "id": "0d189757-692f-4e19-8b3b-ce6d9ec520f1",
        "outputId": "a9601be9-6dcf-4339-85d2-40b679ec0b9c"
      },
      "outputs": [
        {
          "data": {
            "text/html": [
              "\n",
              "    <div>\n",
              "      \n",
              "      <progress value='4689' max='4689' style='width:300px; height:20px; vertical-align: middle;'></progress>\n",
              "      [4689/4689 39:25, Epoch 3/3]\n",
              "    </div>\n",
              "    <table border=\"1\" class=\"dataframe\">\n",
              "  <thead>\n",
              " <tr style=\"text-align: left;\">\n",
              "      <th>Epoch</th>\n",
              "      <th>Training Loss</th>\n",
              "      <th>Validation Loss</th>\n",
              "      <th>Accuracy</th>\n",
              "    </tr>\n",
              "  </thead>\n",
              "  <tbody>\n",
              "    <tr>\n",
              "      <td>1</td>\n",
              "      <td>0.272600</td>\n",
              "      <td>0.275799</td>\n",
              "      <td>0.884480</td>\n",
              "    </tr>\n",
              "    <tr>\n",
              "      <td>2</td>\n",
              "      <td>0.304200</td>\n",
              "      <td>0.251212</td>\n",
              "      <td>0.896640</td>\n",
              "    </tr>\n",
              "    <tr>\n",
              "      <td>3</td>\n",
              "      <td>0.226100</td>\n",
              "      <td>0.246848</td>\n",
              "      <td>0.900320</td>\n",
              "    </tr>\n",
              "  </tbody>\n",
              "</table><p>"
            ],
            "text/plain": [
              "<IPython.core.display.HTML object>"
            ]
          },
          "metadata": {},
          "output_type": "display_data"
        },
        {
          "data": {
            "text/plain": [
              "TrainOutput(global_step=4689, training_loss=0.3231580716049933, metrics={'train_runtime': 2366.5082, 'train_samples_per_second': 31.692, 'train_steps_per_second': 1.981, 'total_flos': 1.97506704384e+16, 'train_loss': 0.3231580716049933, 'epoch': 3.0})"
            ]
          },
          "execution_count": 66,
          "metadata": {},
          "output_type": "execute_result"
        }
      ],
      "source": [
        "Adaptor_trainer.train()"
      ]
    },
    {
      "cell_type": "code",
      "execution_count": null,
      "id": "b78ef2af-8e74-42b4-a2d2-afb4a28e8757",
      "metadata": {
        "id": "b78ef2af-8e74-42b4-a2d2-afb4a28e8757",
        "outputId": "cbaf2b29-3920-41fa-9d47-0e14bd0a93b1"
      },
      "outputs": [
        {
          "data": {
            "text/html": [
              "\n",
              "    <div>\n",
              "      \n",
              "      <progress value='1563' max='1563' style='width:300px; height:20px; vertical-align: middle;'></progress>\n",
              "      [1563/1563 03:52]\n",
              "    </div>\n",
              "    "
            ],
            "text/plain": [
              "<IPython.core.display.HTML object>"
            ]
          },
          "metadata": {},
          "output_type": "display_data"
        },
        {
          "name": "stdout",
          "output_type": "stream",
          "text": [
            "0.90032\n"
          ]
        }
      ],
      "source": [
        "Adaptor_results = Adaptor_trainer.evaluate()\n",
        "print(Adaptor_results[\"eval_accuracy\"])"
      ]
    },
    {
      "cell_type": "code",
      "execution_count": null,
      "id": "7c7df703-feaf-490e-9311-26be8abed99f",
      "metadata": {
        "id": "7c7df703-feaf-490e-9311-26be8abed99f",
        "outputId": "e18fd4a2-84b3-4581-833b-2fde984cf5f7"
      },
      "outputs": [
        {
          "name": "stdout",
          "output_type": "stream",
          "text": [
            "Max GPU Memory Used: 7.49 GB\n"
          ]
        }
      ],
      "source": [
        "import torch\n",
        "\n",
        "gpu_memory_used = torch.cuda.max_memory_allocated() / 1024**3  # in GB\n",
        "print(f\"Max GPU Memory Used: {gpu_memory_used:.2f} GB\")\n"
      ]
    },
    {
      "cell_type": "markdown",
      "id": "15e2e9da-55ae-4e8a-902e-c3620e728bca",
      "metadata": {
        "jp-MarkdownHeadingCollapsed": true,
        "id": "15e2e9da-55ae-4e8a-902e-c3620e728bca"
      },
      "source": [
        "# Part 4. Visualization\n",
        "\n",
        "Generate comparative bar charts illustrating:\n",
        "● Accuracy\n",
        "● Training time\n",
        "● Number of trainable parameters\n",
        "● GPU memory usage"
      ]
    },
    {
      "cell_type": "code",
      "execution_count": null,
      "id": "b9dac4bb-0e05-4082-940b-e7521ae738c7",
      "metadata": {
        "id": "b9dac4bb-0e05-4082-940b-e7521ae738c7",
        "outputId": "895fb06a-a6a1-400d-984e-d557c2817511"
      },
      "outputs": [
        {
          "name": "stderr",
          "output_type": "stream",
          "text": [
            "C:\\Users\\Farjad\\AppData\\Local\\Temp\\ipykernel_2408\\2650695880.py:22: FutureWarning: \n",
            "\n",
            "Passing `palette` without assigning `hue` is deprecated and will be removed in v0.14.0. Assign the `x` variable to `hue` and set `legend=False` for the same effect.\n",
            "\n",
            "  sns.barplot(x=methods, y=accuracies, ax=axes[0, 0], palette=palette)\n",
            "C:\\Users\\Farjad\\AppData\\Local\\Temp\\ipykernel_2408\\2650695880.py:22: UserWarning: The palette list has more values (8) than needed (4), which may not be intended.\n",
            "  sns.barplot(x=methods, y=accuracies, ax=axes[0, 0], palette=palette)\n",
            "C:\\Users\\Farjad\\AppData\\Local\\Temp\\ipykernel_2408\\2650695880.py:27: FutureWarning: \n",
            "\n",
            "Passing `palette` without assigning `hue` is deprecated and will be removed in v0.14.0. Assign the `x` variable to `hue` and set `legend=False` for the same effect.\n",
            "\n",
            "  sns.barplot(x=methods, y=training_times, ax=axes[0, 1], palette=palette)\n",
            "C:\\Users\\Farjad\\AppData\\Local\\Temp\\ipykernel_2408\\2650695880.py:27: UserWarning: The palette list has more values (8) than needed (4), which may not be intended.\n",
            "  sns.barplot(x=methods, y=training_times, ax=axes[0, 1], palette=palette)\n",
            "C:\\Users\\Farjad\\AppData\\Local\\Temp\\ipykernel_2408\\2650695880.py:32: FutureWarning: \n",
            "\n",
            "Passing `palette` without assigning `hue` is deprecated and will be removed in v0.14.0. Assign the `x` variable to `hue` and set `legend=False` for the same effect.\n",
            "\n",
            "  sns.barplot(x=methods, y=trainable_params, ax=axes[1, 0], palette=palette)\n",
            "C:\\Users\\Farjad\\AppData\\Local\\Temp\\ipykernel_2408\\2650695880.py:32: UserWarning: The palette list has more values (8) than needed (4), which may not be intended.\n",
            "  sns.barplot(x=methods, y=trainable_params, ax=axes[1, 0], palette=palette)\n",
            "C:\\Users\\Farjad\\AppData\\Local\\Temp\\ipykernel_2408\\2650695880.py:37: FutureWarning: \n",
            "\n",
            "Passing `palette` without assigning `hue` is deprecated and will be removed in v0.14.0. Assign the `x` variable to `hue` and set `legend=False` for the same effect.\n",
            "\n",
            "  sns.barplot(x=methods, y=gpu_memory_usage, ax=axes[1, 1], palette=palette)\n",
            "C:\\Users\\Farjad\\AppData\\Local\\Temp\\ipykernel_2408\\2650695880.py:37: UserWarning: The palette list has more values (8) than needed (4), which may not be intended.\n",
            "  sns.barplot(x=methods, y=gpu_memory_usage, ax=axes[1, 1], palette=palette)\n"
          ]
        },
        {
          "data": {
            "image/png": "[encoded data removed]",
            "text/plain": [
              "<Figure size 1400x1000 with 4 Axes>"
            ]
          },
          "metadata": {},
          "output_type": "display_data"
        }
      ],
      "source": [
        "import matplotlib.pyplot as plt\n",
        "import seaborn as sns\n",
        "\n",
        "\n",
        "methods = ['Full FT', 'LoRA', 'QLoRA', 'IA3']\n",
        "\n",
        "\n",
        "accuracies = [0.94152, 0.93256, 0.93884, 0.90032]\n",
        "training_times = [2657.1804, 2306.8627, 4029.8172, 2366.5082]\n",
        "trainable_params = [250000, 296450, 800000, 75266]\n",
        "gpu_memory_usage = [9.8, 10.3, 11.4, 7.8]\n",
        "\n",
        "\n",
        "sns.set(style=\"whitegrid\")\n",
        "palette = sns.color_palette(\"Set2\")\n",
        "\n",
        "\n",
        "fig, axes = plt.subplots(2, 2, figsize=(14, 10))\n",
        "fig.suptitle(\"Model Comparison Across Tuning Methods\", fontsize=16)\n",
        "\n",
        "\n",
        "sns.barplot(x=methods, y=accuracies, ax=axes[0, 0], palette=palette)\n",
        "axes[0, 0].set_title(\"Accuracy\")\n",
        "axes[0, 0].set_ylabel(\"Accuracy\")\n",
        "\n",
        "\n",
        "sns.barplot(x=methods, y=training_times, ax=axes[0, 1], palette=palette)\n",
        "axes[0, 1].set_title(\"Training Time (s)\")\n",
        "axes[0, 1].set_ylabel(\"Seconds\")\n",
        "\n",
        "\n",
        "sns.barplot(x=methods, y=trainable_params, ax=axes[1, 0], palette=palette)\n",
        "axes[1, 0].set_title(\"Trainable Parameters\")\n",
        "axes[1, 0].set_ylabel(\"Count\")\n",
        "\n",
        "\n",
        "sns.barplot(x=methods, y=gpu_memory_usage, ax=axes[1, 1], palette=palette)\n",
        "axes[1, 1].set_title(\"GPU Memory Usage (GB)\")\n",
        "axes[1, 1].set_ylabel(\"GB\")\n",
        "\n",
        "\n",
        "for ax in axes.flat:\n",
        "    ax.set_xlabel(\"\")\n",
        "\n",
        "plt.tight_layout(rect=[0, 0, 1, 0.96])\n",
        "plt.show()\n"
      ]
    },
    {
      "cell_type": "code",
      "execution_count": null,
      "id": "567f9569-af11-45c6-958e-5239ff26ed83",
      "metadata": {
        "id": "567f9569-af11-45c6-958e-5239ff26ed83"
      },
      "outputs": [],
      "source": []
    }
  ],
  "metadata": {
    "kernelspec": {
      "display_name": "Python (ViT FineTune)",
      "language": "python",
      "name": "vit-finetune"
    },
    "language_info": {
      "codemirror_mode": {
        "name": "ipython",
        "version": 3
      },
      "file_extension": ".py",
      "mimetype": "text/x-python",
      "name": "python",
      "nbconvert_exporter": "python",
      "pygments_lexer": "ipython3",
      "version": "3.10.16"
    },
    "colab": {
      "provenance": []
    }
  },
  "nbformat": 4,
  "nbformat_minor": 5
}